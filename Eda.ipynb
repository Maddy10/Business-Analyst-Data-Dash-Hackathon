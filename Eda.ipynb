{
 "cells": [
  {
   "cell_type": "code",
   "execution_count": 34,
   "id": "b2ff716a",
   "metadata": {},
   "outputs": [],
   "source": [
    "import pandas as pd\n"
   ]
  },
  {
   "cell_type": "code",
   "execution_count": 35,
   "id": "c73d6512",
   "metadata": {},
   "outputs": [],
   "source": [
    "import seaborn as sns"
   ]
  },
  {
   "cell_type": "code",
   "execution_count": 36,
   "id": "88788927",
   "metadata": {},
   "outputs": [],
   "source": [
    "df1=pd.read_csv('AW_Products.csv')"
   ]
  },
  {
   "cell_type": "code",
   "execution_count": 37,
   "id": "5e4de35d",
   "metadata": {},
   "outputs": [
    {
     "data": {
      "text/html": [
       "<div>\n",
       "<style scoped>\n",
       "    .dataframe tbody tr th:only-of-type {\n",
       "        vertical-align: middle;\n",
       "    }\n",
       "\n",
       "    .dataframe tbody tr th {\n",
       "        vertical-align: top;\n",
       "    }\n",
       "\n",
       "    .dataframe thead th {\n",
       "        text-align: right;\n",
       "    }\n",
       "</style>\n",
       "<table border=\"1\" class=\"dataframe\">\n",
       "  <thead>\n",
       "    <tr style=\"text-align: right;\">\n",
       "      <th></th>\n",
       "      <th>ModelName</th>\n",
       "      <th>ProductColor</th>\n",
       "      <th>ProductCost</th>\n",
       "      <th>ProductDescription</th>\n",
       "      <th>ProductsKey</th>\n",
       "      <th>ProductName</th>\n",
       "      <th>ProductPrice</th>\n",
       "      <th>ProductSize</th>\n",
       "      <th>ProductSKU</th>\n",
       "      <th>ProductStyle</th>\n",
       "      <th>SubcategoryName</th>\n",
       "      <th>CategoryName</th>\n",
       "    </tr>\n",
       "  </thead>\n",
       "  <tbody>\n",
       "    <tr>\n",
       "      <th>0</th>\n",
       "      <td>All-Purpose Bike Stand</td>\n",
       "      <td>NaN</td>\n",
       "      <td>59.4660</td>\n",
       "      <td>Perfect all-purpose bike stand for working on ...</td>\n",
       "      <td>486</td>\n",
       "      <td>All-Purpose Bike Stand</td>\n",
       "      <td>159.00</td>\n",
       "      <td>0</td>\n",
       "      <td>ST-1401</td>\n",
       "      <td>0</td>\n",
       "      <td>Bike Stands</td>\n",
       "      <td>Accessories</td>\n",
       "    </tr>\n",
       "    <tr>\n",
       "      <th>1</th>\n",
       "      <td>Bike Wash</td>\n",
       "      <td>NaN</td>\n",
       "      <td>2.9733</td>\n",
       "      <td>Washes off the toughest road grime; dissolves ...</td>\n",
       "      <td>484</td>\n",
       "      <td>Bike Wash - Dissolver</td>\n",
       "      <td>7.95</td>\n",
       "      <td>0</td>\n",
       "      <td>CL-9009</td>\n",
       "      <td>0</td>\n",
       "      <td>Cleaners</td>\n",
       "      <td>Accessories</td>\n",
       "    </tr>\n",
       "    <tr>\n",
       "      <th>2</th>\n",
       "      <td>Cable Lock</td>\n",
       "      <td>NaN</td>\n",
       "      <td>10.3125</td>\n",
       "      <td>Wraps to fit front and rear tires, carrier and...</td>\n",
       "      <td>447</td>\n",
       "      <td>Cable Lock</td>\n",
       "      <td>25.00</td>\n",
       "      <td>0</td>\n",
       "      <td>LO-C100</td>\n",
       "      <td>0</td>\n",
       "      <td>Locks</td>\n",
       "      <td>Accessories</td>\n",
       "    </tr>\n",
       "    <tr>\n",
       "      <th>3</th>\n",
       "      <td>Chain</td>\n",
       "      <td>Silver</td>\n",
       "      <td>8.9866</td>\n",
       "      <td>Superior shifting performance.</td>\n",
       "      <td>559</td>\n",
       "      <td>Chain</td>\n",
       "      <td>20.24</td>\n",
       "      <td>0</td>\n",
       "      <td>CH-0234</td>\n",
       "      <td>0</td>\n",
       "      <td>Chains</td>\n",
       "      <td>Components</td>\n",
       "    </tr>\n",
       "    <tr>\n",
       "      <th>4</th>\n",
       "      <td>Classic Vest</td>\n",
       "      <td>Blue</td>\n",
       "      <td>23.7490</td>\n",
       "      <td>Light-weight, wind-resistant, packs to fit int...</td>\n",
       "      <td>471</td>\n",
       "      <td>Classic Vest, S</td>\n",
       "      <td>63.50</td>\n",
       "      <td>S</td>\n",
       "      <td>VE-C304-S</td>\n",
       "      <td>U</td>\n",
       "      <td>Vests</td>\n",
       "      <td>Clothing</td>\n",
       "    </tr>\n",
       "  </tbody>\n",
       "</table>\n",
       "</div>"
      ],
      "text/plain": [
       "                ModelName ProductColor  ProductCost  \\\n",
       "0  All-Purpose Bike Stand          NaN      59.4660   \n",
       "1               Bike Wash          NaN       2.9733   \n",
       "2              Cable Lock          NaN      10.3125   \n",
       "3                   Chain       Silver       8.9866   \n",
       "4            Classic Vest         Blue      23.7490   \n",
       "\n",
       "                                  ProductDescription  ProductsKey  \\\n",
       "0  Perfect all-purpose bike stand for working on ...          486   \n",
       "1  Washes off the toughest road grime; dissolves ...          484   \n",
       "2  Wraps to fit front and rear tires, carrier and...          447   \n",
       "3                     Superior shifting performance.          559   \n",
       "4  Light-weight, wind-resistant, packs to fit int...          471   \n",
       "\n",
       "              ProductName  ProductPrice ProductSize ProductSKU ProductStyle  \\\n",
       "0  All-Purpose Bike Stand        159.00           0    ST-1401            0   \n",
       "1   Bike Wash - Dissolver          7.95           0    CL-9009            0   \n",
       "2              Cable Lock         25.00           0    LO-C100            0   \n",
       "3                   Chain         20.24           0    CH-0234            0   \n",
       "4         Classic Vest, S         63.50           S  VE-C304-S            U   \n",
       "\n",
       "  SubcategoryName CategoryName  \n",
       "0     Bike Stands  Accessories  \n",
       "1        Cleaners  Accessories  \n",
       "2           Locks  Accessories  \n",
       "3          Chains   Components  \n",
       "4           Vests     Clothing  "
      ]
     },
     "execution_count": 37,
     "metadata": {},
     "output_type": "execute_result"
    }
   ],
   "source": [
    "df1.head()"
   ]
  },
  {
   "cell_type": "code",
   "execution_count": 38,
   "id": "0e5caa43",
   "metadata": {},
   "outputs": [
    {
     "name": "stdout",
     "output_type": "stream",
     "text": [
      "<class 'pandas.core.frame.DataFrame'>\n",
      "RangeIndex: 293 entries, 0 to 292\n",
      "Data columns (total 12 columns):\n",
      " #   Column              Non-Null Count  Dtype  \n",
      "---  ------              --------------  -----  \n",
      " 0   ModelName           293 non-null    object \n",
      " 1   ProductColor        243 non-null    object \n",
      " 2   ProductCost         293 non-null    float64\n",
      " 3   ProductDescription  293 non-null    object \n",
      " 4   ProductsKey         293 non-null    int64  \n",
      " 5   ProductName         293 non-null    object \n",
      " 6   ProductPrice        293 non-null    float64\n",
      " 7   ProductSize         293 non-null    object \n",
      " 8   ProductSKU          293 non-null    object \n",
      " 9   ProductStyle        293 non-null    object \n",
      " 10  SubcategoryName     293 non-null    object \n",
      " 11  CategoryName        293 non-null    object \n",
      "dtypes: float64(2), int64(1), object(9)\n",
      "memory usage: 27.6+ KB\n"
     ]
    }
   ],
   "source": [
    "df1.info()"
   ]
  },
  {
   "cell_type": "code",
   "execution_count": 39,
   "id": "a52c9ba3",
   "metadata": {},
   "outputs": [
    {
     "data": {
      "text/html": [
       "<div>\n",
       "<style scoped>\n",
       "    .dataframe tbody tr th:only-of-type {\n",
       "        vertical-align: middle;\n",
       "    }\n",
       "\n",
       "    .dataframe tbody tr th {\n",
       "        vertical-align: top;\n",
       "    }\n",
       "\n",
       "    .dataframe thead th {\n",
       "        text-align: right;\n",
       "    }\n",
       "</style>\n",
       "<table border=\"1\" class=\"dataframe\">\n",
       "  <thead>\n",
       "    <tr style=\"text-align: right;\">\n",
       "      <th></th>\n",
       "      <th>ProductCost</th>\n",
       "      <th>ProductsKey</th>\n",
       "      <th>ProductPrice</th>\n",
       "    </tr>\n",
       "  </thead>\n",
       "  <tbody>\n",
       "    <tr>\n",
       "      <th>count</th>\n",
       "      <td>293.000000</td>\n",
       "      <td>293.000000</td>\n",
       "      <td>293.000000</td>\n",
       "    </tr>\n",
       "    <tr>\n",
       "      <th>mean</th>\n",
       "      <td>413.661009</td>\n",
       "      <td>441.552901</td>\n",
       "      <td>714.437357</td>\n",
       "    </tr>\n",
       "    <tr>\n",
       "      <th>std</th>\n",
       "      <td>517.611849</td>\n",
       "      <td>108.064327</td>\n",
       "      <td>872.157258</td>\n",
       "    </tr>\n",
       "    <tr>\n",
       "      <th>min</th>\n",
       "      <td>0.856500</td>\n",
       "      <td>214.000000</td>\n",
       "      <td>2.290000</td>\n",
       "    </tr>\n",
       "    <tr>\n",
       "      <th>25%</th>\n",
       "      <td>31.724400</td>\n",
       "      <td>354.000000</td>\n",
       "      <td>63.500000</td>\n",
       "    </tr>\n",
       "    <tr>\n",
       "      <th>50%</th>\n",
       "      <td>199.375700</td>\n",
       "      <td>457.000000</td>\n",
       "      <td>333.420000</td>\n",
       "    </tr>\n",
       "    <tr>\n",
       "      <th>75%</th>\n",
       "      <td>601.743700</td>\n",
       "      <td>533.000000</td>\n",
       "      <td>1003.910000</td>\n",
       "    </tr>\n",
       "    <tr>\n",
       "      <th>max</th>\n",
       "      <td>2171.294200</td>\n",
       "      <td>606.000000</td>\n",
       "      <td>3578.270000</td>\n",
       "    </tr>\n",
       "  </tbody>\n",
       "</table>\n",
       "</div>"
      ],
      "text/plain": [
       "       ProductCost  ProductsKey  ProductPrice\n",
       "count   293.000000   293.000000    293.000000\n",
       "mean    413.661009   441.552901    714.437357\n",
       "std     517.611849   108.064327    872.157258\n",
       "min       0.856500   214.000000      2.290000\n",
       "25%      31.724400   354.000000     63.500000\n",
       "50%     199.375700   457.000000    333.420000\n",
       "75%     601.743700   533.000000   1003.910000\n",
       "max    2171.294200   606.000000   3578.270000"
      ]
     },
     "execution_count": 39,
     "metadata": {},
     "output_type": "execute_result"
    }
   ],
   "source": [
    "df1.describe()"
   ]
  },
  {
   "cell_type": "code",
   "execution_count": 40,
   "id": "a65f20de",
   "metadata": {},
   "outputs": [
    {
     "data": {
      "text/plain": [
       "ModelName              0\n",
       "ProductColor          50\n",
       "ProductCost            0\n",
       "ProductDescription     0\n",
       "ProductsKey            0\n",
       "ProductName            0\n",
       "ProductPrice           0\n",
       "ProductSize            0\n",
       "ProductSKU             0\n",
       "ProductStyle           0\n",
       "SubcategoryName        0\n",
       "CategoryName           0\n",
       "dtype: int64"
      ]
     },
     "execution_count": 40,
     "metadata": {},
     "output_type": "execute_result"
    }
   ],
   "source": [
    "df1.isnull().sum()"
   ]
  },
  {
   "cell_type": "code",
   "execution_count": 41,
   "id": "ed0904bb",
   "metadata": {},
   "outputs": [],
   "source": [
    "df1.drop(columns='ProductColor',inplace=True)"
   ]
  },
  {
   "cell_type": "code",
   "execution_count": 42,
   "id": "37bb75d5",
   "metadata": {},
   "outputs": [
    {
     "name": "stdout",
     "output_type": "stream",
     "text": [
      "<class 'pandas.core.frame.DataFrame'>\n",
      "RangeIndex: 293 entries, 0 to 292\n",
      "Data columns (total 11 columns):\n",
      " #   Column              Non-Null Count  Dtype  \n",
      "---  ------              --------------  -----  \n",
      " 0   ModelName           293 non-null    object \n",
      " 1   ProductCost         293 non-null    float64\n",
      " 2   ProductDescription  293 non-null    object \n",
      " 3   ProductsKey         293 non-null    int64  \n",
      " 4   ProductName         293 non-null    object \n",
      " 5   ProductPrice        293 non-null    float64\n",
      " 6   ProductSize         293 non-null    object \n",
      " 7   ProductSKU          293 non-null    object \n",
      " 8   ProductStyle        293 non-null    object \n",
      " 9   SubcategoryName     293 non-null    object \n",
      " 10  CategoryName        293 non-null    object \n",
      "dtypes: float64(2), int64(1), object(8)\n",
      "memory usage: 25.3+ KB\n"
     ]
    }
   ],
   "source": [
    "df1.info()"
   ]
  },
  {
   "cell_type": "code",
   "execution_count": 43,
   "id": "386e76ac",
   "metadata": {},
   "outputs": [],
   "source": [
    "df2=pd.read_csv('AW_Sales.csv')"
   ]
  },
  {
   "cell_type": "code",
   "execution_count": 44,
   "id": "e7ef2929",
   "metadata": {},
   "outputs": [
    {
     "data": {
      "text/html": [
       "<div>\n",
       "<style scoped>\n",
       "    .dataframe tbody tr th:only-of-type {\n",
       "        vertical-align: middle;\n",
       "    }\n",
       "\n",
       "    .dataframe tbody tr th {\n",
       "        vertical-align: top;\n",
       "    }\n",
       "\n",
       "    .dataframe thead th {\n",
       "        text-align: right;\n",
       "    }\n",
       "</style>\n",
       "<table border=\"1\" class=\"dataframe\">\n",
       "  <thead>\n",
       "    <tr style=\"text-align: right;\">\n",
       "      <th></th>\n",
       "      <th>OrderDate</th>\n",
       "      <th>StockDate</th>\n",
       "      <th>OrderNumber</th>\n",
       "      <th>ProductKeys</th>\n",
       "      <th>CustomerKeys</th>\n",
       "      <th>TerritoryKeys</th>\n",
       "      <th>OrderLineItem</th>\n",
       "      <th>OrderQuantity</th>\n",
       "    </tr>\n",
       "  </thead>\n",
       "  <tbody>\n",
       "    <tr>\n",
       "      <th>0</th>\n",
       "      <td>01-01-2015</td>\n",
       "      <td>21-09-2001</td>\n",
       "      <td>SO45080</td>\n",
       "      <td>332</td>\n",
       "      <td>14657</td>\n",
       "      <td>1</td>\n",
       "      <td>1</td>\n",
       "      <td>1</td>\n",
       "    </tr>\n",
       "    <tr>\n",
       "      <th>1</th>\n",
       "      <td>01-01-2015</td>\n",
       "      <td>05-12-2001</td>\n",
       "      <td>SO45079</td>\n",
       "      <td>312</td>\n",
       "      <td>29255</td>\n",
       "      <td>4</td>\n",
       "      <td>1</td>\n",
       "      <td>1</td>\n",
       "    </tr>\n",
       "    <tr>\n",
       "      <th>2</th>\n",
       "      <td>01-01-2015</td>\n",
       "      <td>29-10-2001</td>\n",
       "      <td>SO45082</td>\n",
       "      <td>350</td>\n",
       "      <td>11455</td>\n",
       "      <td>9</td>\n",
       "      <td>1</td>\n",
       "      <td>1</td>\n",
       "    </tr>\n",
       "    <tr>\n",
       "      <th>3</th>\n",
       "      <td>01-01-2015</td>\n",
       "      <td>16-11-2001</td>\n",
       "      <td>SO45081</td>\n",
       "      <td>338</td>\n",
       "      <td>26782</td>\n",
       "      <td>6</td>\n",
       "      <td>1</td>\n",
       "      <td>1</td>\n",
       "    </tr>\n",
       "    <tr>\n",
       "      <th>4</th>\n",
       "      <td>02-01-2015</td>\n",
       "      <td>15-12-2001</td>\n",
       "      <td>SO45083</td>\n",
       "      <td>312</td>\n",
       "      <td>14947</td>\n",
       "      <td>10</td>\n",
       "      <td>1</td>\n",
       "      <td>1</td>\n",
       "    </tr>\n",
       "  </tbody>\n",
       "</table>\n",
       "</div>"
      ],
      "text/plain": [
       "    OrderDate   StockDate OrderNumber  ProductKeys  CustomerKeys  \\\n",
       "0  01-01-2015  21-09-2001     SO45080          332         14657   \n",
       "1  01-01-2015  05-12-2001     SO45079          312         29255   \n",
       "2  01-01-2015  29-10-2001     SO45082          350         11455   \n",
       "3  01-01-2015  16-11-2001     SO45081          338         26782   \n",
       "4  02-01-2015  15-12-2001     SO45083          312         14947   \n",
       "\n",
       "   TerritoryKeys  OrderLineItem  OrderQuantity  \n",
       "0              1              1              1  \n",
       "1              4              1              1  \n",
       "2              9              1              1  \n",
       "3              6              1              1  \n",
       "4             10              1              1  "
      ]
     },
     "execution_count": 44,
     "metadata": {},
     "output_type": "execute_result"
    }
   ],
   "source": [
    "df2.head()"
   ]
  },
  {
   "cell_type": "code",
   "execution_count": 45,
   "id": "df34ed0a",
   "metadata": {},
   "outputs": [
    {
     "name": "stdout",
     "output_type": "stream",
     "text": [
      "<class 'pandas.core.frame.DataFrame'>\n",
      "RangeIndex: 56046 entries, 0 to 56045\n",
      "Data columns (total 8 columns):\n",
      " #   Column         Non-Null Count  Dtype \n",
      "---  ------         --------------  ----- \n",
      " 0   OrderDate      56046 non-null  object\n",
      " 1   StockDate      56046 non-null  object\n",
      " 2   OrderNumber    56046 non-null  object\n",
      " 3   ProductKeys    56046 non-null  int64 \n",
      " 4   CustomerKeys   56046 non-null  int64 \n",
      " 5   TerritoryKeys  56046 non-null  int64 \n",
      " 6   OrderLineItem  56046 non-null  int64 \n",
      " 7   OrderQuantity  56046 non-null  int64 \n",
      "dtypes: int64(5), object(3)\n",
      "memory usage: 3.4+ MB\n"
     ]
    }
   ],
   "source": [
    "df2.info()"
   ]
  },
  {
   "cell_type": "code",
   "execution_count": 46,
   "id": "4c1301af",
   "metadata": {},
   "outputs": [
    {
     "data": {
      "text/plain": [
       "OrderDate        0\n",
       "StockDate        0\n",
       "OrderNumber      0\n",
       "ProductKeys      0\n",
       "CustomerKeys     0\n",
       "TerritoryKeys    0\n",
       "OrderLineItem    0\n",
       "OrderQuantity    0\n",
       "dtype: int64"
      ]
     },
     "execution_count": 46,
     "metadata": {},
     "output_type": "execute_result"
    }
   ],
   "source": [
    "df2.isnull().sum()"
   ]
  },
  {
   "cell_type": "code",
   "execution_count": null,
   "id": "c60aeab2",
   "metadata": {},
   "outputs": [],
   "source": []
  },
  {
   "cell_type": "code",
   "execution_count": null,
   "id": "b1d8d48a",
   "metadata": {},
   "outputs": [],
   "source": []
  }
 ],
 "metadata": {
  "kernelspec": {
   "display_name": "Python 3",
   "language": "python",
   "name": "python3"
  },
  "language_info": {
   "codemirror_mode": {
    "name": "ipython",
    "version": 3
   },
   "file_extension": ".py",
   "mimetype": "text/x-python",
   "name": "python",
   "nbconvert_exporter": "python",
   "pygments_lexer": "ipython3",
   "version": "3.12.8"
  }
 },
 "nbformat": 4,
 "nbformat_minor": 5
}
